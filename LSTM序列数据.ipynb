{
 "cells": [
  {
   "cell_type": "code",
   "execution_count": 1,
   "metadata": {},
   "outputs": [],
   "source": [
    "import pandas as pd\n",
    "import numpy as np\n",
    "from sklearn.preprocessing import LabelEncoder\n",
    "from tqdm import tqdm\n",
    "import warnings\n",
    "warnings.filterwarnings(\"ignore\")\n",
    "\n",
    "df_train = pd.read_csv('G:\\\\Browser\\\\GAIDC_preliminary_A\\\\train.csv') #.sample(frac=0.1)\n",
    "df_test = pd.read_csv('G:\\\\Browser\\\\GAIDC_preliminary_A\\\\preliminary_A.csv') #.sample(frac=0.1)\n",
    "df = df_train.append(df_test, sort=False)"
   ]
  },
  {
   "cell_type": "code",
   "execution_count": 2,
   "metadata": {},
   "outputs": [
    {
     "name": "stderr",
     "output_type": "stream",
     "text": [
      "100%|██████████| 4/4 [00:00<00:00, 190.51it/s]\n"
     ]
    }
   ],
   "source": [
    "le = LabelEncoder()\n",
    "for f in tqdm(list(df.select_dtypes(include='object'))):\n",
    "    '''\n",
    "    LabelEncoding (for object)\n",
    "    '''\n",
    "    try:\n",
    "        if f==\"id\": # 保留id\n",
    "            continue\n",
    "        df[f] = df[f].astype('float')# 将数字转成数值型数据\n",
    "    except:\n",
    "        df[f] = le.fit_transform(df[f].astype('str')).astype('int')# 字符串label化"
   ]
  },
  {
   "attachments": {},
   "cell_type": "markdown",
   "metadata": {},
   "source": [
    "# 测试"
   ]
  },
  {
   "cell_type": "code",
   "execution_count": null,
   "metadata": {},
   "outputs": [],
   "source": []
  },
  {
   "cell_type": "code",
   "execution_count": null,
   "metadata": {
    "collapsed": false,
    "id": "97E34BCF840B4F578A3C8853BAA9BDC0",
    "jupyter": {},
    "notebookId": "63c954db1971ee1e8fd6cf7c",
    "scrolled": false,
    "slideshow": {
     "slide_type": "slide"
    },
    "tags": [],
    "trusted": true
   },
   "outputs": [
    {
     "name": "stderr",
     "output_type": "stream",
     "text": [
      "100%|██████████| 11/11 [00:00<00:00, 53.40it/s]\n"
     ]
    }
   ],
   "source": [
    "# 数量编码\n",
    "groupby_list = ['transformers', 'month','date_id', 'is_weekend', 'time', 'L1', 'L2', 'L3', 'L4', 'L5', 'L6']\n",
    "for name in tqdm(groupby_list):\n",
    "    # 加上同类数属性列\n",
    "    df_temp = df.groupby(name).size().reset_index()#重置索引\n",
    "    df_temp.columns = [name] + [\"num_in_\"+name]\n",
    "    df = df.merge(df_temp, how='left')  # 左合并   "
   ]
  },
  {
   "cell_type": "code",
   "execution_count": null,
   "metadata": {
    "collapsed": false,
    "id": "2171D6C8ED0C4FFAB4419EEE4891CA4C",
    "jupyter": {},
    "notebookId": "63c954db1971ee1e8fd6cf7c",
    "scrolled": false,
    "slideshow": {
     "slide_type": "slide"
    },
    "tags": [],
    "trusted": true
   },
   "outputs": [],
   "source": [
    "L_list = ['L1', 'L2', 'L3', 'L4', 'L5', 'L6']\n",
    "L_norm_list = [i+\"_norm\" for i in L_list]\n",
    "max_min_scaler = lambda x : (x-x.min())/(x.max()-x.min())\n",
    "for i in L_list: # 将L1-6进行min-max归一化\n",
    "    df[f'{i}_norm'] = df[[i]].apply(max_min_scaler).values\n",
    "df[\"L_norm_sum\"] = df[L_norm_list].sum(axis=1) # 归一化总和\n",
    "df[\"L_sum\"] = df[L_list].sum(axis=1) # 总和\n",
    "df['L_norm_std']  = df[L_norm_list].std(axis=1) # 方差\n",
    "df['L_std']  = df[L_list].std(axis=1) # 方差"
   ]
  },
  {
   "cell_type": "code",
   "execution_count": null,
   "metadata": {
    "collapsed": false,
    "id": "3AD477F391A140B88D0F907A6B15AA8E",
    "jupyter": {},
    "notebookId": "63c954db1971ee1e8fd6cf7c",
    "scrolled": false,
    "slideshow": {
     "slide_type": "slide"
    },
    "tags": [],
    "trusted": true
   },
   "outputs": [],
   "source": [
    "# 猜测复杂L1-L6是否大于0可能会有影响\n",
    "ge0 = lambda x: 1 if x>=0 else 0\n",
    "L_ge0_list = [f\"is_{i}_ge0\" for i in L_list]\n",
    "for i in L_list:\n",
    "    df[f'is_{i}_ge0'] = df[[i]].applymap(ge0).values\n",
    "df[\"num_L_ge0\"] = df[L_ge0_list].sum(axis=1)\n",
    "df[\"is_L_all_ge0\"] = df[\"is_L1_ge0\"] * df[\"is_L2_ge0\"] * df[\"is_L3_ge0\"] * df[\"is_L4_ge0\"] * df[\"is_L5_ge0\"] * df[\"is_L6_ge0\"]"
   ]
  },
  {
   "attachments": {},
   "cell_type": "markdown",
   "metadata": {},
   "source": [
    "# 测试"
   ]
  },
  {
   "cell_type": "code",
   "execution_count": 3,
   "metadata": {},
   "outputs": [],
   "source": [
    "# 新建一个dataframe，总行数为原df的1/48，将原df的所有feat都整合成长48的list\n",
    "column_names = list(df.columns.values) #.remove(\"id\")\n",
    "# column_names.remove(\"id\")\n",
    "df_48 = pd.DataFrame(columns=column_names)\n",
    "# test_id_list = df_test[\"id\"].values.tolist() # 存储测试集id，便于分隔\n",
    "# df_48.info()"
   ]
  },
  {
   "cell_type": "code",
   "execution_count": 4,
   "metadata": {},
   "outputs": [
    {
     "name": "stderr",
     "output_type": "stream",
     "text": [
      "100%|██████████| 517/517 [00:07<00:00, 70.32it/s]\n",
      "100%|██████████| 483/483 [00:06<00:00, 71.54it/s]\n"
     ]
    },
    {
     "data": {
      "text/html": [
       "<div>\n",
       "<style scoped>\n",
       "    .dataframe tbody tr th:only-of-type {\n",
       "        vertical-align: middle;\n",
       "    }\n",
       "\n",
       "    .dataframe tbody tr th {\n",
       "        vertical-align: top;\n",
       "    }\n",
       "\n",
       "    .dataframe thead th {\n",
       "        text-align: right;\n",
       "    }\n",
       "</style>\n",
       "<table border=\"1\" class=\"dataframe\">\n",
       "  <thead>\n",
       "    <tr style=\"text-align: right;\">\n",
       "      <th></th>\n",
       "      <th>id</th>\n",
       "      <th>y</th>\n",
       "    </tr>\n",
       "  </thead>\n",
       "  <tbody>\n",
       "    <tr>\n",
       "      <th>0</th>\n",
       "      <td>[M1_D00003_00_00, M1_D00003_00_30, M1_D00003_0...</td>\n",
       "      <td>[9.7434, 9.955, 10.1302, 10.5524, 10.377, 10.9...</td>\n",
       "    </tr>\n",
       "    <tr>\n",
       "      <th>1</th>\n",
       "      <td>[M1_D00582_00_00, M1_D00582_00_30, M1_D00582_0...</td>\n",
       "      <td>[13.472, 13.4716, 13.4719, 13.3662, 13.4366, 1...</td>\n",
       "    </tr>\n",
       "    <tr>\n",
       "      <th>2</th>\n",
       "      <td>[M1_D00631_00_00, M1_D00631_00_30, M1_D00631_0...</td>\n",
       "      <td>[16.7076, 16.884, 17.657, 17.0595, 17.3757, 17...</td>\n",
       "    </tr>\n",
       "    <tr>\n",
       "      <th>3</th>\n",
       "      <td>[M1_D00630_00_00, M1_D00630_00_30, M1_D00630_0...</td>\n",
       "      <td>[15.9694, 16.0042, 16.2151, 16.1796, 16.1799, ...</td>\n",
       "    </tr>\n",
       "    <tr>\n",
       "      <th>4</th>\n",
       "      <td>[M1_D00627_00_00, M1_D00627_00_30, M1_D00627_0...</td>\n",
       "      <td>[17.1651, 17.9387, 18.0092, 17.8331, 17.9038, ...</td>\n",
       "    </tr>\n",
       "    <tr>\n",
       "      <th>...</th>\n",
       "      <td>...</td>\n",
       "      <td>...</td>\n",
       "    </tr>\n",
       "    <tr>\n",
       "      <th>995</th>\n",
       "      <td>[M2_D00299_00_00, M2_D00299_00_30, M2_D00299_0...</td>\n",
       "      <td>[27.4078, 27.2975, 26.9678, 26.8582, 26.529, 2...</td>\n",
       "    </tr>\n",
       "    <tr>\n",
       "      <th>996</th>\n",
       "      <td>[M2_D00298_00_00, M2_D00298_00_30, M2_D00298_0...</td>\n",
       "      <td>[27.5171, 27.1877, 26.8583, 26.6381, 26.3086, ...</td>\n",
       "    </tr>\n",
       "    <tr>\n",
       "      <th>997</th>\n",
       "      <td>[M2_D00296_00_00, M2_D00296_00_30, M2_D00296_0...</td>\n",
       "      <td>[13.6133, 13.6133, 13.1744, 13.0644, 12.8443, ...</td>\n",
       "    </tr>\n",
       "    <tr>\n",
       "      <th>998</th>\n",
       "      <td>[M2_D00295_00_00, M2_D00295_00_30, M2_D00295_0...</td>\n",
       "      <td>[15.5177, 15.5175, 15.5179, 15.5177, 15.5175, ...</td>\n",
       "    </tr>\n",
       "    <tr>\n",
       "      <th>999</th>\n",
       "      <td>[M2_D00712_00_00, M2_D00712_00_30, M2_D00712_0...</td>\n",
       "      <td>[nan, nan, nan, nan, nan, nan, nan, nan, nan, ...</td>\n",
       "    </tr>\n",
       "  </tbody>\n",
       "</table>\n",
       "<p>1000 rows × 2 columns</p>\n",
       "</div>"
      ],
      "text/plain": [
       "                                                    id  \\\n",
       "0    [M1_D00003_00_00, M1_D00003_00_30, M1_D00003_0...   \n",
       "1    [M1_D00582_00_00, M1_D00582_00_30, M1_D00582_0...   \n",
       "2    [M1_D00631_00_00, M1_D00631_00_30, M1_D00631_0...   \n",
       "3    [M1_D00630_00_00, M1_D00630_00_30, M1_D00630_0...   \n",
       "4    [M1_D00627_00_00, M1_D00627_00_30, M1_D00627_0...   \n",
       "..                                                 ...   \n",
       "995  [M2_D00299_00_00, M2_D00299_00_30, M2_D00299_0...   \n",
       "996  [M2_D00298_00_00, M2_D00298_00_30, M2_D00298_0...   \n",
       "997  [M2_D00296_00_00, M2_D00296_00_30, M2_D00296_0...   \n",
       "998  [M2_D00295_00_00, M2_D00295_00_30, M2_D00295_0...   \n",
       "999  [M2_D00712_00_00, M2_D00712_00_30, M2_D00712_0...   \n",
       "\n",
       "                                                     y  \n",
       "0    [9.7434, 9.955, 10.1302, 10.5524, 10.377, 10.9...  \n",
       "1    [13.472, 13.4716, 13.4719, 13.3662, 13.4366, 1...  \n",
       "2    [16.7076, 16.884, 17.657, 17.0595, 17.3757, 17...  \n",
       "3    [15.9694, 16.0042, 16.2151, 16.1796, 16.1799, ...  \n",
       "4    [17.1651, 17.9387, 18.0092, 17.8331, 17.9038, ...  \n",
       "..                                                 ...  \n",
       "995  [27.4078, 27.2975, 26.9678, 26.8582, 26.529, 2...  \n",
       "996  [27.5171, 27.1877, 26.8583, 26.6381, 26.3086, ...  \n",
       "997  [13.6133, 13.6133, 13.1744, 13.0644, 12.8443, ...  \n",
       "998  [15.5177, 15.5175, 15.5179, 15.5177, 15.5175, ...  \n",
       "999  [nan, nan, nan, nan, nan, nan, nan, nan, nan, ...  \n",
       "\n",
       "[1000 rows x 2 columns]"
      ]
     },
     "execution_count": 4,
     "metadata": {},
     "output_type": "execute_result"
    }
   ],
   "source": [
    "feat_name = df_48.columns.values\n",
    "# 把M1和M2分开\n",
    "for transformers in df[\"transformers\"].value_counts().index.values:\n",
    "    date_id_list = df[df[\"transformers\"] == transformers][\"date_id\"].value_counts().index.values\n",
    "    for date_id in tqdm(date_id_list):\n",
    "        tmp = df.query(f' transformers=={transformers} and date_id=={date_id} ')\n",
    "        data = {i: tmp[i].values for i in feat_name}\n",
    "        # data = {\n",
    "        #     \"y\": df_list[\"y\"].values,\n",
    "        #     \"L1\": df_list[\"L1\"].values,\n",
    "        #     \"L2\": df_list[\"L2\"].values,\n",
    "        #     \"L3\": df_list[\"L3\"].values,\n",
    "        #     }\n",
    "        df_48 = df_48.append(data, ignore_index=True)\n",
    "df_48[[\"id\",\"y\"]]"
   ]
  },
  {
   "cell_type": "code",
   "execution_count": 5,
   "metadata": {},
   "outputs": [
    {
     "data": {
      "text/plain": [
       "(200, 800)"
      ]
     },
     "execution_count": 5,
     "metadata": {},
     "output_type": "execute_result"
    }
   ],
   "source": [
    "# 区分train和test\n",
    "test_no_list = []\n",
    "train_no_list = [i for i in range(1000)]\n",
    "for i,j in enumerate(df_48[\"y\"]):\n",
    "    if j.tolist() != j.tolist(): # 即为nan\n",
    "        # print(j)\n",
    "        test_no_list.append(i)\n",
    "        train_no_list.remove(i)\n",
    "\n",
    "len(test_no_list), len(train_no_list)"
   ]
  },
  {
   "cell_type": "code",
   "execution_count": 6,
   "metadata": {},
   "outputs": [
    {
     "name": "stdout",
     "output_type": "stream",
     "text": [
      "<class 'pandas.core.frame.DataFrame'>\n",
      "Int64Index: 800 entries, 0 to 998\n",
      "Data columns (total 12 columns):\n",
      " #   Column        Non-Null Count  Dtype \n",
      "---  ------        --------------  ----- \n",
      " 0   transformers  800 non-null    object\n",
      " 1   date_id       800 non-null    object\n",
      " 2   month         800 non-null    object\n",
      " 3   is_weekend    800 non-null    object\n",
      " 4   time          800 non-null    object\n",
      " 5   L1            800 non-null    object\n",
      " 6   L2            800 non-null    object\n",
      " 7   L3            800 non-null    object\n",
      " 8   L4            800 non-null    object\n",
      " 9   L5            800 non-null    object\n",
      " 10  L6            800 non-null    object\n",
      " 11  y             800 non-null    object\n",
      "dtypes: object(12)\n",
      "memory usage: 81.2+ KB\n"
     ]
    }
   ],
   "source": [
    "# df_48.drop(columns=\"id\").info()\n",
    "df_48.iloc[train_no_list].drop(columns=\"id\").info()"
   ]
  },
  {
   "cell_type": "code",
   "execution_count": 7,
   "metadata": {},
   "outputs": [],
   "source": [
    "# 数据框转换为numpy数组\n",
    "df_train_np = df_48.iloc[train_no_list].drop(columns=\"id\").to_numpy() # 抽取出train\n",
    "\n",
    "diff = len([\"id\",\"y\"])\n",
    "# 提取出list\n",
    "df_train_list = []\n",
    "for i in range(len(df_48.columns.values) - diff): # 去除y和id所以减2\n",
    "    df_train_list.append(df_train_np[:, i])\n",
    "label = df_train_np[:, -1] # \n",
    "\n",
    "# 将特征A，特征B和标签转换为三维张量。将数值类型从list转换为array\n",
    "x_train = np.array(\n",
    "    [\n",
    "        [df_train_list[i][j] for i in range(len(df_48.columns.values) - diff)] \n",
    "        for j in range(len(df_train_list[0]))\n",
    "    ]\n",
    "    )\n",
    "y_train = np.array([label[i] for i in range(len(label))])\n",
    "\n",
    "\n",
    "df_test_np = df_48.iloc[test_no_list].drop(columns=\"id\").to_numpy() # 抽取出test\n",
    "# 提取出list\n",
    "df_test_list = []\n",
    "for i in range(len(df_48.columns.values) - diff):\n",
    "    df_test_list.append(df_test_np[:, i])\n",
    "\n",
    "x_test = np.array(\n",
    "    [\n",
    "        [df_test_list[i][j] for i in range(len(df_48.columns.values) - diff)] \n",
    "        for j in range(len(df_test_list[0]))\n",
    "    ]\n",
    "    )"
   ]
  },
  {
   "cell_type": "code",
   "execution_count": 8,
   "metadata": {},
   "outputs": [],
   "source": [
    "# import pandas as pd\n",
    "# import numpy as np\n",
    "\n",
    "# # 生成有内部关联性的数据\n",
    "# feature_a = np.random.normal(10, 2, (10000, 2)).tolist()\n",
    "# feature_b = np.random.normal(15, 3, (10000, 2)).tolist()\n",
    "# label = np.random.normal(20, 5, (10000, 2)).tolist()\n",
    "\n",
    "# # 创建数据框\n",
    "# data = {\n",
    "#     'feature_a': feature_a,\n",
    "#     'feature_b': feature_b,\n",
    "#     'label': label\n",
    "# }\n",
    "# df = pd.DataFrame(data,index=range(10000,20000,1))\n",
    "\n",
    "# folds = KFold(n_splits=5, shuffle=True, random_state=2019)\n",
    "\n",
    "# for fold_, (trn_idx, val_idx) in enumerate(folds.split(range(10000), df['label'])):\n",
    "#     print(val_idx)"
   ]
  },
  {
   "cell_type": "code",
   "execution_count": 12,
   "metadata": {},
   "outputs": [
    {
     "data": {
      "text/plain": [
       "((200, 11, 48), (800, 11, 48))"
      ]
     },
     "execution_count": 12,
     "metadata": {},
     "output_type": "execute_result"
    }
   ],
   "source": [
    "x_test.shape,x_train.shape"
   ]
  },
  {
   "cell_type": "code",
   "execution_count": 9,
   "metadata": {
    "collapsed": false,
    "id": "B3F380EE53B94EE18AB973806D9EF3E1",
    "jupyter": {},
    "notebookId": "63cac24d30f8a115ae76faa0",
    "scrolled": false,
    "slideshow": {
     "slide_type": "slide"
    },
    "tags": [],
    "trusted": true
   },
   "outputs": [
    {
     "name": "stdout",
     "output_type": "stream",
     "text": [
      "\n",
      "Fold_1 Featuring ===========Sun Jan 22 18:42:01 2023\n",
      "\n"
     ]
    },
    {
     "ename": "MemoryError",
     "evalue": "Unable to allocate 1.61 MiB for an array with shape (800, 11, 48) and data type float32",
     "output_type": "error",
     "traceback": [
      "\u001b[1;31m---------------------------------------------------------------------------\u001b[0m",
      "\u001b[1;31mMemoryError\u001b[0m                               Traceback (most recent call last)",
      "\u001b[1;32mg:\\Browser\\GAIDC_preliminary_A\\LSTM序列数据.ipynb Cell 10\u001b[0m in \u001b[0;36m<cell line: 11>\u001b[1;34m()\u001b[0m\n\u001b[0;32m     <a href='vscode-notebook-cell:/g%3A/Browser/GAIDC_preliminary_A/LSTM%E5%BA%8F%E5%88%97%E6%95%B0%E6%8D%AE.ipynb#X13sZmlsZQ%3D%3D?line=22'>23</a>\u001b[0m model\u001b[39m.\u001b[39mcompile(loss\u001b[39m=\u001b[39m\u001b[39m'\u001b[39m\u001b[39mmean_squared_error\u001b[39m\u001b[39m'\u001b[39m, optimizer\u001b[39m=\u001b[39m\u001b[39m'\u001b[39m\u001b[39madam\u001b[39m\u001b[39m'\u001b[39m,metrics\u001b[39m=\u001b[39m[\u001b[39m'\u001b[39m\u001b[39mmae\u001b[39m\u001b[39m'\u001b[39m])\n\u001b[0;32m     <a href='vscode-notebook-cell:/g%3A/Browser/GAIDC_preliminary_A/LSTM%E5%BA%8F%E5%88%97%E6%95%B0%E6%8D%AE.ipynb#X13sZmlsZQ%3D%3D?line=24'>25</a>\u001b[0m \u001b[39m# 训练模型\u001b[39;00m\n\u001b[0;32m     <a href='vscode-notebook-cell:/g%3A/Browser/GAIDC_preliminary_A/LSTM%E5%BA%8F%E5%88%97%E6%95%B0%E6%8D%AE.ipynb#X13sZmlsZQ%3D%3D?line=25'>26</a>\u001b[0m \u001b[39m# x_train是特征A和特征B的训练数据，y_train是标签的训练数据\u001b[39;00m\n\u001b[0;32m     <a href='vscode-notebook-cell:/g%3A/Browser/GAIDC_preliminary_A/LSTM%E5%BA%8F%E5%88%97%E6%95%B0%E6%8D%AE.ipynb#X13sZmlsZQ%3D%3D?line=26'>27</a>\u001b[0m \u001b[39m# x_train和y_train需要转换成三维张量\u001b[39;00m\n\u001b[1;32m---> <a href='vscode-notebook-cell:/g%3A/Browser/GAIDC_preliminary_A/LSTM%E5%BA%8F%E5%88%97%E6%95%B0%E6%8D%AE.ipynb#X13sZmlsZQ%3D%3D?line=27'>28</a>\u001b[0m model\u001b[39m.\u001b[39mfit(x_train, y_train, epochs\u001b[39m=\u001b[39m\u001b[39m1000\u001b[39m, batch_size\u001b[39m=\u001b[39m\u001b[39m8\u001b[39m,\n\u001b[0;32m     <a href='vscode-notebook-cell:/g%3A/Browser/GAIDC_preliminary_A/LSTM%E5%BA%8F%E5%88%97%E6%95%B0%E6%8D%AE.ipynb#X13sZmlsZQ%3D%3D?line=28'>29</a>\u001b[0m     callbacks\u001b[39m=\u001b[39m[EarlyStopping(monitor\u001b[39m=\u001b[39m\u001b[39m'\u001b[39m\u001b[39mloss\u001b[39m\u001b[39m'\u001b[39m, patience\u001b[39m=\u001b[39m\u001b[39m5\u001b[39m)])\n\u001b[0;32m     <a href='vscode-notebook-cell:/g%3A/Browser/GAIDC_preliminary_A/LSTM%E5%BA%8F%E5%88%97%E6%95%B0%E6%8D%AE.ipynb#X13sZmlsZQ%3D%3D?line=30'>31</a>\u001b[0m oof[val_idx] \u001b[39m=\u001b[39m model\u001b[39m.\u001b[39mpredict(X_val)\n\u001b[0;32m     <a href='vscode-notebook-cell:/g%3A/Browser/GAIDC_preliminary_A/LSTM%E5%BA%8F%E5%88%97%E6%95%B0%E6%8D%AE.ipynb#X13sZmlsZQ%3D%3D?line=33'>34</a>\u001b[0m predictions \u001b[39m+\u001b[39m\u001b[39m=\u001b[39m model\u001b[39m.\u001b[39mpredict(x_test) \u001b[39m/\u001b[39m folds\u001b[39m.\u001b[39mn_splits\n",
      "File \u001b[1;32mc:\\Users\\Jackie r9k7\\AppData\\Local\\Programs\\Python\\Python38\\lib\\site-packages\\keras\\utils\\traceback_utils.py:67\u001b[0m, in \u001b[0;36mfilter_traceback.<locals>.error_handler\u001b[1;34m(*args, **kwargs)\u001b[0m\n\u001b[0;32m     65\u001b[0m \u001b[39mexcept\u001b[39;00m \u001b[39mException\u001b[39;00m \u001b[39mas\u001b[39;00m e:  \u001b[39m# pylint: disable=broad-except\u001b[39;00m\n\u001b[0;32m     66\u001b[0m   filtered_tb \u001b[39m=\u001b[39m _process_traceback_frames(e\u001b[39m.\u001b[39m__traceback__)\n\u001b[1;32m---> 67\u001b[0m   \u001b[39mraise\u001b[39;00m e\u001b[39m.\u001b[39mwith_traceback(filtered_tb) \u001b[39mfrom\u001b[39;00m \u001b[39mNone\u001b[39m\n\u001b[0;32m     68\u001b[0m \u001b[39mfinally\u001b[39;00m:\n\u001b[0;32m     69\u001b[0m   \u001b[39mdel\u001b[39;00m filtered_tb\n",
      "File \u001b[1;32mc:\\Users\\Jackie r9k7\\AppData\\Local\\Programs\\Python\\Python38\\lib\\site-packages\\tensorflow\\python\\framework\\constant_op.py:102\u001b[0m, in \u001b[0;36mconvert_to_eager_tensor\u001b[1;34m(value, ctx, dtype)\u001b[0m\n\u001b[0;32m    100\u001b[0m     dtype \u001b[39m=\u001b[39m dtypes\u001b[39m.\u001b[39mas_dtype(dtype)\u001b[39m.\u001b[39mas_datatype_enum\n\u001b[0;32m    101\u001b[0m ctx\u001b[39m.\u001b[39mensure_initialized()\n\u001b[1;32m--> 102\u001b[0m \u001b[39mreturn\u001b[39;00m ops\u001b[39m.\u001b[39;49mEagerTensor(value, ctx\u001b[39m.\u001b[39;49mdevice_name, dtype)\n",
      "\u001b[1;31mMemoryError\u001b[0m: Unable to allocate 1.61 MiB for an array with shape (800, 11, 48) and data type float32"
     ]
    }
   ],
   "source": [
    "import time\n",
    "from keras.layers import LSTM, Dense\n",
    "from keras.models import Sequential\n",
    "from keras.callbacks import EarlyStopping\n",
    "from sklearn.model_selection import KFold\n",
    "# 五折交叉验证\n",
    "folds = KFold(n_splits=5, shuffle=True, random_state=2019)\n",
    "oof = np.zeros([len(x_train), 48])\n",
    "predictions = np.zeros([len(x_test), 48])   \n",
    "\n",
    "for fold_, (trn_idx, val_idx) in enumerate(\n",
    "    folds.split(range(len(x_train)), y_train)\n",
    "    ):\n",
    "    # KFold五折交叉\n",
    "    print(f'\\nFold_{fold_+1} Featuring ==========={time.asctime(time.localtime(time.time()))}\\n')\n",
    "    X_tra, X_val = x_train[trn_idx], x_train[val_idx]\n",
    "    y_tra, y_val = y_train[trn_idx], y_train[val_idx]\n",
    "\n",
    "    model = Sequential()\n",
    "    model.add(LSTM(320, input_shape=(11, 48))) # input_shape（特征数量，特征值维数）\n",
    "    # model.add(LSTM(320, input_shape=(640, 1))) # input_shape（特征数量，特征值维数）\n",
    "    model.add(Dense(48))\n",
    "    model.compile(loss='mean_squared_error', optimizer='adam',metrics=['mae'])\n",
    "\n",
    "    # 训练模型\n",
    "    # x_train是特征A和特征B的训练数据，y_train是标签的训练数据\n",
    "    # x_train和y_train需要转换成三维张量\n",
    "    model.fit(x_train, y_train, epochs=1000, batch_size=8,\n",
    "        callbacks=[EarlyStopping(monitor='loss', patience=5)])\n",
    "\n",
    "    oof[val_idx] = model.predict(X_val)\n",
    "\n",
    "    \n",
    "    predictions += model.predict(x_test) / folds.n_splits\n",
    "    # print(predictions)\n",
    "    del model\n"
   ]
  },
  {
   "cell_type": "code",
   "execution_count": null,
   "metadata": {},
   "outputs": [
    {
     "data": {
      "text/plain": [
       "2.3009556762084844"
      ]
     },
     "execution_count": 11,
     "metadata": {},
     "output_type": "execute_result"
    }
   ],
   "source": [
    "# len(y_pred)\n",
    "# y_pred[0]\n",
    "from sklearn.metrics import mean_squared_error, mean_absolute_error\n",
    "score = mean_absolute_error(y_train, oof)\n",
    "score"
   ]
  },
  {
   "cell_type": "code",
   "execution_count": null,
   "metadata": {},
   "outputs": [
    {
     "data": {
      "text/html": [
       "<div>\n",
       "<style scoped>\n",
       "    .dataframe tbody tr th:only-of-type {\n",
       "        vertical-align: middle;\n",
       "    }\n",
       "\n",
       "    .dataframe tbody tr th {\n",
       "        vertical-align: top;\n",
       "    }\n",
       "\n",
       "    .dataframe thead th {\n",
       "        text-align: right;\n",
       "    }\n",
       "</style>\n",
       "<table border=\"1\" class=\"dataframe\">\n",
       "  <thead>\n",
       "    <tr style=\"text-align: right;\">\n",
       "      <th></th>\n",
       "      <th>id</th>\n",
       "      <th>y</th>\n",
       "    </tr>\n",
       "  </thead>\n",
       "  <tbody>\n",
       "    <tr>\n",
       "      <th>132</th>\n",
       "      <td>[M1_D00525_00_00, M1_D00525_00_30, M1_D00525_0...</td>\n",
       "      <td>[17.960859775543213, 18.03029155731201, 18.013...</td>\n",
       "    </tr>\n",
       "    <tr>\n",
       "      <th>133</th>\n",
       "      <td>[M1_D00524_00_00, M1_D00524_00_30, M1_D00524_0...</td>\n",
       "      <td>[0.4580961838364601, 0.48713668156415224, 0.16...</td>\n",
       "    </tr>\n",
       "    <tr>\n",
       "      <th>134</th>\n",
       "      <td>[M1_D00512_00_00, M1_D00512_00_30, M1_D00512_0...</td>\n",
       "      <td>[21.23642587661743, 21.12035059928894, 21.0759...</td>\n",
       "    </tr>\n",
       "    <tr>\n",
       "      <th>135</th>\n",
       "      <td>[M1_D00501_00_00, M1_D00501_00_30, M1_D00501_0...</td>\n",
       "      <td>[6.550054311752319, 6.462775826454163, 6.51308...</td>\n",
       "    </tr>\n",
       "    <tr>\n",
       "      <th>136</th>\n",
       "      <td>[M1_D00484_00_00, M1_D00484_00_30, M1_D00484_0...</td>\n",
       "      <td>[15.822006940841675, 15.91051459312439, 15.856...</td>\n",
       "    </tr>\n",
       "    <tr>\n",
       "      <th>...</th>\n",
       "      <td>...</td>\n",
       "      <td>...</td>\n",
       "    </tr>\n",
       "    <tr>\n",
       "      <th>753</th>\n",
       "      <td>[M2_D00075_00_00, M2_D00075_00_30, M2_D00075_0...</td>\n",
       "      <td>[12.560163497924805, 12.326066493988037, 12.16...</td>\n",
       "    </tr>\n",
       "    <tr>\n",
       "      <th>754</th>\n",
       "      <td>[M2_D00073_00_00, M2_D00073_00_30, M2_D00073_0...</td>\n",
       "      <td>[32.80941581726074, 32.43967008590698, 32.3510...</td>\n",
       "    </tr>\n",
       "    <tr>\n",
       "      <th>755</th>\n",
       "      <td>[M2_D00066_00_00, M2_D00066_00_30, M2_D00066_0...</td>\n",
       "      <td>[16.509177684783936, 16.18205213546753, 16.175...</td>\n",
       "    </tr>\n",
       "    <tr>\n",
       "      <th>756</th>\n",
       "      <td>[M2_D00053_00_00, M2_D00053_00_30, M2_D00053_0...</td>\n",
       "      <td>[23.47450065612793, 23.328338623046875, 23.062...</td>\n",
       "    </tr>\n",
       "    <tr>\n",
       "      <th>999</th>\n",
       "      <td>[M2_D00712_00_00, M2_D00712_00_30, M2_D00712_0...</td>\n",
       "      <td>[12.022221565246582, 11.818355083465576, 11.34...</td>\n",
       "    </tr>\n",
       "  </tbody>\n",
       "</table>\n",
       "<p>200 rows × 2 columns</p>\n",
       "</div>"
      ],
      "text/plain": [
       "                                                    id  \\\n",
       "132  [M1_D00525_00_00, M1_D00525_00_30, M1_D00525_0...   \n",
       "133  [M1_D00524_00_00, M1_D00524_00_30, M1_D00524_0...   \n",
       "134  [M1_D00512_00_00, M1_D00512_00_30, M1_D00512_0...   \n",
       "135  [M1_D00501_00_00, M1_D00501_00_30, M1_D00501_0...   \n",
       "136  [M1_D00484_00_00, M1_D00484_00_30, M1_D00484_0...   \n",
       "..                                                 ...   \n",
       "753  [M2_D00075_00_00, M2_D00075_00_30, M2_D00075_0...   \n",
       "754  [M2_D00073_00_00, M2_D00073_00_30, M2_D00073_0...   \n",
       "755  [M2_D00066_00_00, M2_D00066_00_30, M2_D00066_0...   \n",
       "756  [M2_D00053_00_00, M2_D00053_00_30, M2_D00053_0...   \n",
       "999  [M2_D00712_00_00, M2_D00712_00_30, M2_D00712_0...   \n",
       "\n",
       "                                                     y  \n",
       "132  [17.960859775543213, 18.03029155731201, 18.013...  \n",
       "133  [0.4580961838364601, 0.48713668156415224, 0.16...  \n",
       "134  [21.23642587661743, 21.12035059928894, 21.0759...  \n",
       "135  [6.550054311752319, 6.462775826454163, 6.51308...  \n",
       "136  [15.822006940841675, 15.91051459312439, 15.856...  \n",
       "..                                                 ...  \n",
       "753  [12.560163497924805, 12.326066493988037, 12.16...  \n",
       "754  [32.80941581726074, 32.43967008590698, 32.3510...  \n",
       "755  [16.509177684783936, 16.18205213546753, 16.175...  \n",
       "756  [23.47450065612793, 23.328338623046875, 23.062...  \n",
       "999  [12.022221565246582, 11.818355083465576, 11.34...  \n",
       "\n",
       "[200 rows x 2 columns]"
      ]
     },
     "execution_count": 12,
     "metadata": {},
     "output_type": "execute_result"
    }
   ],
   "source": [
    "df_test_48 = df_48.iloc[test_no_list]\n",
    "for i,j in enumerate(df_test_48[\"y\"]):\n",
    "    df_test_48.iloc[i,-1] = predictions[i]\n",
    "df_test_48[[\"id\",\"y\"]]"
   ]
  },
  {
   "cell_type": "code",
   "execution_count": null,
   "metadata": {},
   "outputs": [
    {
     "data": {
      "text/html": [
       "<div>\n",
       "<style scoped>\n",
       "    .dataframe tbody tr th:only-of-type {\n",
       "        vertical-align: middle;\n",
       "    }\n",
       "\n",
       "    .dataframe tbody tr th {\n",
       "        vertical-align: top;\n",
       "    }\n",
       "\n",
       "    .dataframe thead th {\n",
       "        text-align: right;\n",
       "    }\n",
       "</style>\n",
       "<table border=\"1\" class=\"dataframe\">\n",
       "  <thead>\n",
       "    <tr style=\"text-align: right;\">\n",
       "      <th></th>\n",
       "      <th>id</th>\n",
       "      <th>transformers</th>\n",
       "      <th>date_id</th>\n",
       "      <th>month</th>\n",
       "      <th>is_weekend</th>\n",
       "      <th>time</th>\n",
       "      <th>L1</th>\n",
       "      <th>L2</th>\n",
       "      <th>L3</th>\n",
       "      <th>L4</th>\n",
       "      <th>L5</th>\n",
       "      <th>L6</th>\n",
       "    </tr>\n",
       "  </thead>\n",
       "  <tbody>\n",
       "    <tr>\n",
       "      <th>0</th>\n",
       "      <td>M1_D00000_00_00</td>\n",
       "      <td>M1</td>\n",
       "      <td>D00000</td>\n",
       "      <td>3</td>\n",
       "      <td>1</td>\n",
       "      <td>0:00</td>\n",
       "      <td>13.0278</td>\n",
       "      <td>8.4753</td>\n",
       "      <td>4.3406</td>\n",
       "      <td>1.7753</td>\n",
       "      <td>-0.2663</td>\n",
       "      <td>11.782043</td>\n",
       "    </tr>\n",
       "    <tr>\n",
       "      <th>1</th>\n",
       "      <td>M1_D00000_00_30</td>\n",
       "      <td>M1</td>\n",
       "      <td>D00000</td>\n",
       "      <td>3</td>\n",
       "      <td>1</td>\n",
       "      <td>0:30</td>\n",
       "      <td>12.3578</td>\n",
       "      <td>8.1378</td>\n",
       "      <td>4.0206</td>\n",
       "      <td>0.9720</td>\n",
       "      <td>-0.5864</td>\n",
       "      <td>11.772829</td>\n",
       "    </tr>\n",
       "    <tr>\n",
       "      <th>2</th>\n",
       "      <td>M1_D00000_01_00</td>\n",
       "      <td>M1</td>\n",
       "      <td>D00000</td>\n",
       "      <td>3</td>\n",
       "      <td>1</td>\n",
       "      <td>1:00</td>\n",
       "      <td>13.8315</td>\n",
       "      <td>9.8085</td>\n",
       "      <td>3.9294</td>\n",
       "      <td>2.3443</td>\n",
       "      <td>0.3556</td>\n",
       "      <td>11.854339</td>\n",
       "    </tr>\n",
       "    <tr>\n",
       "      <th>3</th>\n",
       "      <td>M1_D00000_01_30</td>\n",
       "      <td>M1</td>\n",
       "      <td>D00000</td>\n",
       "      <td>3</td>\n",
       "      <td>1</td>\n",
       "      <td>1:30</td>\n",
       "      <td>13.8988</td>\n",
       "      <td>9.7902</td>\n",
       "      <td>3.9297</td>\n",
       "      <td>1.3737</td>\n",
       "      <td>-0.2842</td>\n",
       "      <td>11.786057</td>\n",
       "    </tr>\n",
       "    <tr>\n",
       "      <th>4</th>\n",
       "      <td>M1_D00000_02_00</td>\n",
       "      <td>M1</td>\n",
       "      <td>D00000</td>\n",
       "      <td>3</td>\n",
       "      <td>1</td>\n",
       "      <td>2:00</td>\n",
       "      <td>13.8315</td>\n",
       "      <td>9.8256</td>\n",
       "      <td>3.9751</td>\n",
       "      <td>1.9085</td>\n",
       "      <td>0.1776</td>\n",
       "      <td>11.518905</td>\n",
       "    </tr>\n",
       "    <tr>\n",
       "      <th>...</th>\n",
       "      <td>...</td>\n",
       "      <td>...</td>\n",
       "      <td>...</td>\n",
       "      <td>...</td>\n",
       "      <td>...</td>\n",
       "      <td>...</td>\n",
       "      <td>...</td>\n",
       "      <td>...</td>\n",
       "      <td>...</td>\n",
       "      <td>...</td>\n",
       "      <td>...</td>\n",
       "      <td>...</td>\n",
       "    </tr>\n",
       "    <tr>\n",
       "      <th>9595</th>\n",
       "      <td>M2_D00712_21_30</td>\n",
       "      <td>M2</td>\n",
       "      <td>D00712</td>\n",
       "      <td>2</td>\n",
       "      <td>1</td>\n",
       "      <td>21:30</td>\n",
       "      <td>38.5751</td>\n",
       "      <td>46.9907</td>\n",
       "      <td>-8.6837</td>\n",
       "      <td>0.0000</td>\n",
       "      <td>2.0513</td>\n",
       "      <td>12.698127</td>\n",
       "    </tr>\n",
       "    <tr>\n",
       "      <th>9596</th>\n",
       "      <td>M2_D00712_22_00</td>\n",
       "      <td>M2</td>\n",
       "      <td>D00712</td>\n",
       "      <td>2</td>\n",
       "      <td>1</td>\n",
       "      <td>22:00</td>\n",
       "      <td>36.8583</td>\n",
       "      <td>45.0476</td>\n",
       "      <td>-8.0806</td>\n",
       "      <td>0.0003</td>\n",
       "      <td>1.6087</td>\n",
       "      <td>12.376602</td>\n",
       "    </tr>\n",
       "    <tr>\n",
       "      <th>9597</th>\n",
       "      <td>M2_D00712_22_30</td>\n",
       "      <td>M2</td>\n",
       "      <td>D00712</td>\n",
       "      <td>2</td>\n",
       "      <td>1</td>\n",
       "      <td>22:30</td>\n",
       "      <td>34.8477</td>\n",
       "      <td>43.8814</td>\n",
       "      <td>-8.8380</td>\n",
       "      <td>0.0002</td>\n",
       "      <td>2.0377</td>\n",
       "      <td>12.180814</td>\n",
       "    </tr>\n",
       "    <tr>\n",
       "      <th>9598</th>\n",
       "      <td>M2_D00712_23_00</td>\n",
       "      <td>M2</td>\n",
       "      <td>D00712</td>\n",
       "      <td>2</td>\n",
       "      <td>1</td>\n",
       "      <td>23:00</td>\n",
       "      <td>34.0516</td>\n",
       "      <td>43.1575</td>\n",
       "      <td>-9.5099</td>\n",
       "      <td>0.0001</td>\n",
       "      <td>1.6085</td>\n",
       "      <td>12.049113</td>\n",
       "    </tr>\n",
       "    <tr>\n",
       "      <th>9599</th>\n",
       "      <td>M2_D00712_23_30</td>\n",
       "      <td>M2</td>\n",
       "      <td>D00712</td>\n",
       "      <td>2</td>\n",
       "      <td>1</td>\n",
       "      <td>23:30</td>\n",
       "      <td>33.2561</td>\n",
       "      <td>41.1336</td>\n",
       "      <td>-8.1986</td>\n",
       "      <td>0.0002</td>\n",
       "      <td>0.0005</td>\n",
       "      <td>11.841879</td>\n",
       "    </tr>\n",
       "  </tbody>\n",
       "</table>\n",
       "<p>9600 rows × 12 columns</p>\n",
       "</div>"
      ],
      "text/plain": [
       "                   id transformers date_id  month  is_weekend   time       L1  \\\n",
       "0     M1_D00000_00_00           M1  D00000      3           1   0:00  13.0278   \n",
       "1     M1_D00000_00_30           M1  D00000      3           1   0:30  12.3578   \n",
       "2     M1_D00000_01_00           M1  D00000      3           1   1:00  13.8315   \n",
       "3     M1_D00000_01_30           M1  D00000      3           1   1:30  13.8988   \n",
       "4     M1_D00000_02_00           M1  D00000      3           1   2:00  13.8315   \n",
       "...               ...          ...     ...    ...         ...    ...      ...   \n",
       "9595  M2_D00712_21_30           M2  D00712      2           1  21:30  38.5751   \n",
       "9596  M2_D00712_22_00           M2  D00712      2           1  22:00  36.8583   \n",
       "9597  M2_D00712_22_30           M2  D00712      2           1  22:30  34.8477   \n",
       "9598  M2_D00712_23_00           M2  D00712      2           1  23:00  34.0516   \n",
       "9599  M2_D00712_23_30           M2  D00712      2           1  23:30  33.2561   \n",
       "\n",
       "           L2      L3      L4      L5         L6  \n",
       "0      8.4753  4.3406  1.7753 -0.2663  11.782043  \n",
       "1      8.1378  4.0206  0.9720 -0.5864  11.772829  \n",
       "2      9.8085  3.9294  2.3443  0.3556  11.854339  \n",
       "3      9.7902  3.9297  1.3737 -0.2842  11.786057  \n",
       "4      9.8256  3.9751  1.9085  0.1776  11.518905  \n",
       "...       ...     ...     ...     ...        ...  \n",
       "9595  46.9907 -8.6837  0.0000  2.0513  12.698127  \n",
       "9596  45.0476 -8.0806  0.0003  1.6087  12.376602  \n",
       "9597  43.8814 -8.8380  0.0002  2.0377  12.180814  \n",
       "9598  43.1575 -9.5099  0.0001  1.6085  12.049113  \n",
       "9599  41.1336 -8.1986  0.0002  0.0005  11.841879  \n",
       "\n",
       "[9600 rows x 12 columns]"
      ]
     },
     "execution_count": 15,
     "metadata": {},
     "output_type": "execute_result"
    }
   ],
   "source": [
    "df_test"
   ]
  },
  {
   "cell_type": "code",
   "execution_count": null,
   "metadata": {},
   "outputs": [
    {
     "name": "stderr",
     "output_type": "stream",
     "text": [
      "9600it [00:04, 2031.55it/s]\n"
     ]
    }
   ],
   "source": [
    "# df_test_48[[\"id\",]].values[0].tolist()\n",
    "# arr.flatten()\n",
    "test_id_list = np.concatenate(df_test_48[\"id\"].values)\n",
    "test_y_list = np.concatenate(df_test_48[\"y\"].values)\n",
    "df_test[\"y\"] = -100 # 添加新列置为-100\n",
    "for i,j in tqdm(zip(test_id_list, test_y_list)):\n",
    "    df_test.loc[df_test[\"id\"]==i,\"y\"] = j # 修改值不能用[]\n",
    "df_test[[\"id\",\"y\"]]"
   ]
  },
  {
   "cell_type": "code",
   "execution_count": null,
   "metadata": {},
   "outputs": [
    {
     "ename": "KeyError",
     "evalue": "\"['y'] not in index\"",
     "output_type": "error",
     "traceback": [
      "\u001b[1;31m---------------------------------------------------------------------------\u001b[0m",
      "\u001b[1;31mKeyError\u001b[0m                                  Traceback (most recent call last)",
      "\u001b[1;32mg:\\Browser\\GAIDC_preliminary_A\\LSTM序列数据.ipynb Cell 15\u001b[0m in \u001b[0;36m<cell line: 1>\u001b[1;34m()\u001b[0m\n\u001b[1;32m----> <a href='vscode-notebook-cell:/g%3A/Browser/GAIDC_preliminary_A/LSTM%E5%BA%8F%E5%88%97%E6%95%B0%E6%8D%AE.ipynb#X20sZmlsZQ%3D%3D?line=0'>1</a>\u001b[0m df_test[[\u001b[39m\"\u001b[39m\u001b[39mid\u001b[39m\u001b[39m\"\u001b[39m,\u001b[39m\"\u001b[39m\u001b[39my\u001b[39m\u001b[39m\"\u001b[39m]]\u001b[39m.\u001b[39mto_csv(\u001b[39mf\u001b[39m\u001b[39m'\u001b[39m\u001b[39mlstm_\u001b[39m\u001b[39m{\u001b[39;00m\u001b[39mint\u001b[39m(\u001b[39m100\u001b[39m\u001b[39m*\u001b[39mscore)\u001b[39m}\u001b[39;00m\u001b[39m.csv\u001b[39m\u001b[39m'\u001b[39m, index\u001b[39m=\u001b[39m\u001b[39mFalse\u001b[39;00m)\n",
      "File \u001b[1;32mc:\\Users\\Jackie r9k7\\AppData\\Local\\Programs\\Python\\Python38\\lib\\site-packages\\pandas\\core\\frame.py:3511\u001b[0m, in \u001b[0;36mDataFrame.__getitem__\u001b[1;34m(self, key)\u001b[0m\n\u001b[0;32m   3509\u001b[0m     \u001b[39mif\u001b[39;00m is_iterator(key):\n\u001b[0;32m   3510\u001b[0m         key \u001b[39m=\u001b[39m \u001b[39mlist\u001b[39m(key)\n\u001b[1;32m-> 3511\u001b[0m     indexer \u001b[39m=\u001b[39m \u001b[39mself\u001b[39;49m\u001b[39m.\u001b[39;49mcolumns\u001b[39m.\u001b[39;49m_get_indexer_strict(key, \u001b[39m\"\u001b[39;49m\u001b[39mcolumns\u001b[39;49m\u001b[39m\"\u001b[39;49m)[\u001b[39m1\u001b[39m]\n\u001b[0;32m   3513\u001b[0m \u001b[39m# take() does not accept boolean indexers\u001b[39;00m\n\u001b[0;32m   3514\u001b[0m \u001b[39mif\u001b[39;00m \u001b[39mgetattr\u001b[39m(indexer, \u001b[39m\"\u001b[39m\u001b[39mdtype\u001b[39m\u001b[39m\"\u001b[39m, \u001b[39mNone\u001b[39;00m) \u001b[39m==\u001b[39m \u001b[39mbool\u001b[39m:\n",
      "File \u001b[1;32mc:\\Users\\Jackie r9k7\\AppData\\Local\\Programs\\Python\\Python38\\lib\\site-packages\\pandas\\core\\indexes\\base.py:5782\u001b[0m, in \u001b[0;36mIndex._get_indexer_strict\u001b[1;34m(self, key, axis_name)\u001b[0m\n\u001b[0;32m   5779\u001b[0m \u001b[39melse\u001b[39;00m:\n\u001b[0;32m   5780\u001b[0m     keyarr, indexer, new_indexer \u001b[39m=\u001b[39m \u001b[39mself\u001b[39m\u001b[39m.\u001b[39m_reindex_non_unique(keyarr)\n\u001b[1;32m-> 5782\u001b[0m \u001b[39mself\u001b[39;49m\u001b[39m.\u001b[39;49m_raise_if_missing(keyarr, indexer, axis_name)\n\u001b[0;32m   5784\u001b[0m keyarr \u001b[39m=\u001b[39m \u001b[39mself\u001b[39m\u001b[39m.\u001b[39mtake(indexer)\n\u001b[0;32m   5785\u001b[0m \u001b[39mif\u001b[39;00m \u001b[39misinstance\u001b[39m(key, Index):\n\u001b[0;32m   5786\u001b[0m     \u001b[39m# GH 42790 - Preserve name from an Index\u001b[39;00m\n",
      "File \u001b[1;32mc:\\Users\\Jackie r9k7\\AppData\\Local\\Programs\\Python\\Python38\\lib\\site-packages\\pandas\\core\\indexes\\base.py:5845\u001b[0m, in \u001b[0;36mIndex._raise_if_missing\u001b[1;34m(self, key, indexer, axis_name)\u001b[0m\n\u001b[0;32m   5842\u001b[0m     \u001b[39mraise\u001b[39;00m \u001b[39mKeyError\u001b[39;00m(\u001b[39mf\u001b[39m\u001b[39m\"\u001b[39m\u001b[39mNone of [\u001b[39m\u001b[39m{\u001b[39;00mkey\u001b[39m}\u001b[39;00m\u001b[39m] are in the [\u001b[39m\u001b[39m{\u001b[39;00maxis_name\u001b[39m}\u001b[39;00m\u001b[39m]\u001b[39m\u001b[39m\"\u001b[39m)\n\u001b[0;32m   5844\u001b[0m not_found \u001b[39m=\u001b[39m \u001b[39mlist\u001b[39m(ensure_index(key)[missing_mask\u001b[39m.\u001b[39mnonzero()[\u001b[39m0\u001b[39m]]\u001b[39m.\u001b[39munique())\n\u001b[1;32m-> 5845\u001b[0m \u001b[39mraise\u001b[39;00m \u001b[39mKeyError\u001b[39;00m(\u001b[39mf\u001b[39m\u001b[39m\"\u001b[39m\u001b[39m{\u001b[39;00mnot_found\u001b[39m}\u001b[39;00m\u001b[39m not in index\u001b[39m\u001b[39m\"\u001b[39m)\n",
      "\u001b[1;31mKeyError\u001b[0m: \"['y'] not in index\""
     ]
    }
   ],
   "source": [
    "df_test[[\"id\",\"y\"]].to_csv(f'lstm_{int(100*score)}.csv', index=False)"
   ]
  },
  {
   "cell_type": "code",
   "execution_count": null,
   "metadata": {},
   "outputs": [
    {
     "data": {
      "text/plain": [
       "235"
      ]
     },
     "execution_count": 115,
     "metadata": {},
     "output_type": "execute_result"
    }
   ],
   "source": [
    "# int(100*round(2.352429460351817, 2))\n",
    "int(100*2.352429460351817)"
   ]
  },
  {
   "cell_type": "code",
   "execution_count": null,
   "metadata": {},
   "outputs": [],
   "source": []
  }
 ],
 "metadata": {
  "kernelspec": {
   "display_name": "Python 3",
   "language": "python",
   "name": "python3"
  },
  "language_info": {
   "codemirror_mode": {
    "name": "ipython",
    "version": 3
   },
   "file_extension": ".py",
   "mimetype": "text/x-python",
   "name": "python",
   "nbconvert_exporter": "python",
   "pygments_lexer": "ipython3",
   "version": "3.8.10 (tags/v3.8.10:3d8993a, May  3 2021, 11:48:03) [MSC v.1928 64 bit (AMD64)]"
  },
  "orig_nbformat": 4,
  "vscode": {
   "interpreter": {
    "hash": "f5946b6e853b34f473fb738bafc13c5730ec46b1be076a90eae2c15b8d0b108b"
   }
  }
 },
 "nbformat": 4,
 "nbformat_minor": 2
}
