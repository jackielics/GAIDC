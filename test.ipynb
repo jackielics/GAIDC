{
 "cells": [
  {
   "attachments": {},
   "cell_type": "markdown",
   "metadata": {},
   "source": [
    "# 虽然还是用不了GPU，但可以正常使用了"
   ]
  },
  {
   "cell_type": "code",
   "execution_count": 6,
   "metadata": {},
   "outputs": [
    {
     "name": "stdout",
     "output_type": "stream",
     "text": [
      "Epoch 1/10\n",
      "25/25 [==============================] - 0s 1ms/step - loss: 0.3311 - mae: 0.3311\n",
      "Epoch 2/10\n",
      "25/25 [==============================] - 0s 2ms/step - loss: 0.2667 - mae: 0.2667\n",
      "Epoch 3/10\n",
      "25/25 [==============================] - 0s 1ms/step - loss: 0.2567 - mae: 0.2567\n",
      "Epoch 4/10\n",
      "25/25 [==============================] - 0s 1ms/step - loss: 0.2493 - mae: 0.2493\n",
      "Epoch 5/10\n",
      "25/25 [==============================] - 0s 2ms/step - loss: 0.2405 - mae: 0.2405\n",
      "Epoch 6/10\n",
      "25/25 [==============================] - 0s 2ms/step - loss: 0.2307 - mae: 0.2307\n",
      "Epoch 7/10\n",
      "25/25 [==============================] - 0s 2ms/step - loss: 0.2203 - mae: 0.2203\n",
      "Epoch 8/10\n",
      "25/25 [==============================] - 0s 2ms/step - loss: 0.2095 - mae: 0.2095\n",
      "Epoch 9/10\n",
      "25/25 [==============================] - 0s 2ms/step - loss: 0.1993 - mae: 0.1993\n",
      "Epoch 10/10\n",
      "25/25 [==============================] - 0s 2ms/step - loss: 0.1896 - mae: 0.1896\n",
      "(100, 48) [0.542839   0.17036462 0.51627934 0.7577876  0.27435508 0.4876841\n",
      " 0.5483503  0.8813893  0.7049919  0.4656824  0.51129067 0.664379\n",
      " 0.30690408 0.5768675  0.55874586 0.5458359  0.6036726  0.49468803\n",
      " 0.43932518 0.6178524  0.5460094  0.65773046 0.4017247  0.5996069\n",
      " 0.35942864 0.8293305  0.6009163  0.44559315 0.637364   0.34053677\n",
      " 0.93620276 0.5413056  0.7421515  0.41394717 0.6353918  0.58586997\n",
      " 0.47750458 0.42158028 0.46669996 0.50654006 0.6111907  0.5293024\n",
      " 0.27773482 0.25550452 0.73996407 0.5955637  0.22628164 0.22194856]\n"
     ]
    }
   ],
   "source": [
    "import numpy as np\n",
    "from keras.models import Sequential\n",
    "from keras.layers import Dense, Conv3D, Flatten, Conv2D, Conv1D\n",
    "import os\n",
    "os.environ[\"CUDA_VISIBLE_DEVICES\"] = \"-1\"\n",
    "# 生成训练数据\n",
    "X = np.random.rand(800, 44, 48)\n",
    "y = np.random.rand(800, 48)\n",
    "\n",
    "# 建立模型\n",
    "model = Sequential()\n",
    "model.add(Conv1D(32, kernel_size=(3), activation='relu', input_shape=(44, 48)))\n",
    "model.add(Flatten())\n",
    "model.add(Dense(48))\n",
    "\n",
    "# 编译模型\n",
    "model.compile(optimizer='adam', loss='mae', metrics=['mae'])\n",
    "\n",
    "# 训练模型\n",
    "model.fit(X, y, epochs=10, batch_size=32)\n",
    "\n",
    "# 预测\n",
    "X_test = np.random.rand(100, 44, 48)\n",
    "y_pred = model.predict(X_test)\n",
    "print(y_pred.shape, y_pred[0])\n"
   ]
  },
  {
   "cell_type": "code",
   "execution_count": 19,
   "metadata": {},
   "outputs": [
    {
     "data": {
      "text/plain": [
       "([[1, 2], [3, 4], [5, 6], [7, 8], [9, 10]],\n",
       " array([[ 1.63585981,  2.02735538],\n",
       "        [ 3.4565055 ,  4.08679605],\n",
       "        [ 5.25544725,  6.12195703],\n",
       "        [ 7.05899691,  8.14705451],\n",
       "        [ 8.86040251, 10.17172022]]))"
      ]
     },
     "execution_count": 19,
     "metadata": {},
     "output_type": "execute_result"
    }
   ],
   "source": [
    "from sklearn.neural_network import MLPRegressor\n",
    "X = [[1, 2], [3, 4], [5, 6], [7, 8], [9, 10]]\n",
    "y = [[1, 2], [3, 4], [5, 6], [7, 8], [9, 10]]\n",
    "\n",
    "# X = [[i] for i in range(1,11)]\n",
    "# y = [[i] for i in range(1,11)]\n",
    "\n",
    "model = MLPRegressor(random_state=123)\n",
    "model.fit(X, y)\n",
    "# print(model.predict([[1, 2]]))\n",
    "out = model.predict(X)\n",
    "# print(model.score(y, out))\n",
    "\n",
    "from sklearn.metrics import mean_squared_error, mean_absolute_error\n",
    "score = mean_absolute_error(y, out)\n",
    "# score\n",
    "(y, out)"
   ]
  },
  {
   "cell_type": "code",
   "execution_count": 35,
   "metadata": {},
   "outputs": [
    {
     "name": "stdout",
     "output_type": "stream",
     "text": [
      "Epoch 1/20\n",
      "25/25 [==============================] - 0s 1ms/step - loss: 0.2885 - mae: 0.4259\n",
      "Epoch 2/20\n",
      "25/25 [==============================] - 0s 1ms/step - loss: 0.1542 - mae: 0.3195\n",
      "Epoch 3/20\n",
      "25/25 [==============================] - 0s 1ms/step - loss: 0.1377 - mae: 0.3039\n",
      "Epoch 4/20\n",
      "25/25 [==============================] - 0s 1ms/step - loss: 0.1263 - mae: 0.2928\n",
      "Epoch 5/20\n",
      "25/25 [==============================] - 0s 1ms/step - loss: 0.1175 - mae: 0.2842\n",
      "Epoch 6/20\n",
      "25/25 [==============================] - 0s 1ms/step - loss: 0.1110 - mae: 0.2777\n",
      "Epoch 7/20\n",
      "25/25 [==============================] - 0s 1ms/step - loss: 0.1060 - mae: 0.2727\n",
      "Epoch 8/20\n",
      "25/25 [==============================] - 0s 1ms/step - loss: 0.1019 - mae: 0.2687\n",
      "Epoch 9/20\n",
      "25/25 [==============================] - 0s 1ms/step - loss: 0.0988 - mae: 0.2656\n",
      "Epoch 10/20\n",
      "25/25 [==============================] - 0s 1ms/step - loss: 0.0963 - mae: 0.2630\n",
      "Epoch 11/20\n",
      "25/25 [==============================] - 0s 1ms/step - loss: 0.0946 - mae: 0.2613\n",
      "Epoch 12/20\n",
      "25/25 [==============================] - 0s 1ms/step - loss: 0.0932 - mae: 0.2600\n",
      "Epoch 13/20\n",
      "25/25 [==============================] - 0s 1ms/step - loss: 0.0920 - mae: 0.2587\n",
      "Epoch 14/20\n",
      "25/25 [==============================] - 0s 2ms/step - loss: 0.0911 - mae: 0.2578\n",
      "Epoch 15/20\n",
      "25/25 [==============================] - 0s 1ms/step - loss: 0.0901 - mae: 0.2567\n",
      "Epoch 16/20\n",
      "25/25 [==============================] - 0s 1ms/step - loss: 0.0894 - mae: 0.2560\n",
      "Epoch 17/20\n",
      "25/25 [==============================] - 0s 2ms/step - loss: 0.0890 - mae: 0.2557\n",
      "Epoch 18/20\n",
      "25/25 [==============================] - 0s 1ms/step - loss: 0.0885 - mae: 0.2551\n",
      "Epoch 19/20\n",
      "25/25 [==============================] - 0s 1ms/step - loss: 0.0882 - mae: 0.2549\n",
      "Epoch 20/20\n",
      "25/25 [==============================] - 0s 2ms/step - loss: 0.0877 - mae: 0.2544\n"
     ]
    }
   ],
   "source": [
    "import numpy as np\n",
    "from keras.models import Sequential\n",
    "from keras.layers import Dense\n",
    "\n",
    "#生成训练数据\n",
    "x_train = np.random.rand(800, 44, 48)\n",
    "y_train = np.random.rand(800, 1, 48)\n",
    "#生成测试数据\n",
    "x_test = np.random.rand(800, 44, 48)\n",
    "\n",
    "# 创建模型\n",
    "model = Sequential()\n",
    "model.add(Dense(64, input_shape=(44, 48)))\n",
    "model.add(Dense(48))\n",
    "\n",
    "#编译模型\n",
    "model.compile(optimizer='adam', loss='mean_squared_error', metrics=['mae'])\n",
    "\n",
    "#训练模型\n",
    "model.fit(x_train, y_train, epochs=20, batch_size=32)\n",
    "\n",
    "#预测测试集\n",
    "y_test = model.predict(x_test)\n"
   ]
  },
  {
   "attachments": {},
   "cell_type": "markdown",
   "metadata": {},
   "source": [
    "# MLP"
   ]
  },
  {
   "cell_type": "code",
   "execution_count": 115,
   "metadata": {},
   "outputs": [
    {
     "data": {
      "text/plain": [
       "((160, 44), (160,))"
      ]
     },
     "execution_count": 115,
     "metadata": {},
     "output_type": "execute_result"
    }
   ],
   "source": [
    "import numpy as np\n",
    "\n",
    "# x = np.array([[[1,2], [1,2], [1,2]], [[1,2], [1,2], [1,2]], [[1,2], [1,2], [1,2]], [[1,2], [1,2], [1,2]]])\n",
    "# y = np.array([[1,2], [1,2], [1,2], [1,2]]) # .T\n",
    "\n",
    "# x = np.array([[0, 1, 0], [0, 0, 1], [1, 3, 2], [3, 2, 1]])\n",
    "# y = np.array([0, 0, 1, 1]) #.T\n",
    "\n",
    "x = np.random.rand(160, 44)\n",
    "y = np.random.rand(160)\n",
    "\n",
    "x.shape, y.shape "
   ]
  },
  {
   "cell_type": "code",
   "execution_count": 116,
   "metadata": {},
   "outputs": [],
   "source": [
    "# input_shape\n",
    "# ((4, 3, 2), (4))                  (3, 2)      (1)   (4, 3, 1)\n",
    "# 规律是不是(4)后面其实还有个1，(4, 3, 1)-最后的Dense(1)=(4,3)-4=3,(3,2)减去最后一个得3\n",
    "# ((4, 3), (4))                     (3)         (1)   (4, 1)\n",
    "# ((4, 3, 2, 1), (4))               (3, 2, 1)   (1)   (4, 3, 2, 1)\n",
    "\n",
    "# ((160, 44, 48), (160, 1, 48))     (44, 48)    (48)  (160, 44, 48)\n",
    "# LSTM 无论(160, 1, 48)还是(160, 48)，输出都是(160, 48)"
   ]
  },
  {
   "cell_type": "code",
   "execution_count": 117,
   "metadata": {},
   "outputs": [
    {
     "name": "stdout",
     "output_type": "stream",
     "text": [
      "Epoch 1/20\n",
      "5/5 [==============================] - 0s 750us/step - loss: 0.0954\n",
      "Epoch 2/20\n",
      "5/5 [==============================] - 0s 750us/step - loss: 0.0954\n",
      "Epoch 3/20\n",
      "5/5 [==============================] - 0s 750us/step - loss: 0.0953\n",
      "Epoch 4/20\n",
      "5/5 [==============================] - 0s 1ms/step - loss: 0.0952\n",
      "Epoch 5/20\n",
      "5/5 [==============================] - 0s 1ms/step - loss: 0.0951\n",
      "Epoch 6/20\n",
      "5/5 [==============================] - 0s 750us/step - loss: 0.0950\n",
      "Epoch 7/20\n",
      "5/5 [==============================] - 0s 750us/step - loss: 0.0950\n",
      "Epoch 8/20\n",
      "5/5 [==============================] - 0s 751us/step - loss: 0.0949\n",
      "Epoch 9/20\n",
      "5/5 [==============================] - 0s 750us/step - loss: 0.0948\n",
      "Epoch 10/20\n",
      "5/5 [==============================] - 0s 999us/step - loss: 0.0948\n",
      "Epoch 11/20\n",
      "5/5 [==============================] - 0s 751us/step - loss: 0.0947\n",
      "Epoch 12/20\n",
      "5/5 [==============================] - 0s 1ms/step - loss: 0.0946\n",
      "Epoch 13/20\n",
      "5/5 [==============================] - 0s 750us/step - loss: 0.0945\n",
      "Epoch 14/20\n",
      "5/5 [==============================] - 0s 1ms/step - loss: 0.0945\n",
      "Epoch 15/20\n",
      "5/5 [==============================] - 0s 1ms/step - loss: 0.0944\n",
      "Epoch 16/20\n",
      "5/5 [==============================] - 0s 1ms/step - loss: 0.0943\n",
      "Epoch 17/20\n",
      "5/5 [==============================] - 0s 1ms/step - loss: 0.0943\n",
      "Epoch 18/20\n",
      "5/5 [==============================] - 0s 2ms/step - loss: 0.0942\n",
      "Epoch 19/20\n",
      "5/5 [==============================] - 0s 750us/step - loss: 0.0941\n",
      "Epoch 20/20\n",
      "5/5 [==============================] - 0s 750us/step - loss: 0.0941\n",
      "(160, 48)\n",
      "[[0.5404676  0.46100277 0.6245712  ... 0.5902608  0.36489213 0.43178844]\n",
      " [0.5215395  0.5179407  0.5378517  ... 0.541329   0.48693442 0.48892435]\n",
      " [0.5456756  0.4468634  0.6612195  ... 0.61229074 0.32236356 0.40956858]\n",
      " ...\n",
      " [0.53947973 0.502833   0.59983814 ... 0.570446   0.41934717 0.44050282]\n",
      " [0.5429213  0.47184768 0.6222436  ... 0.5884     0.37564987 0.43130022]\n",
      " [0.5386716  0.4681474  0.62010026 ... 0.57599515 0.3722986  0.42347375]]\n"
     ]
    },
    {
     "ename": "KeyError",
     "evalue": "'loss'",
     "output_type": "error",
     "traceback": [
      "\u001b[1;31m---------------------------------------------------------------------------\u001b[0m",
      "\u001b[1;31mKeyError\u001b[0m                                  Traceback (most recent call last)",
      "\u001b[1;32mg:\\Browser\\GAIDC_preliminary_A\\test.ipynb Cell 5\u001b[0m in \u001b[0;36m<cell line: 28>\u001b[1;34m()\u001b[0m\n\u001b[0;32m     <a href='vscode-notebook-cell:/g%3A/Browser/GAIDC_preliminary_A/test.ipynb#W0sZmlsZQ%3D%3D?line=23'>24</a>\u001b[0m \u001b[39mprint\u001b[39m(tmp)\n\u001b[0;32m     <a href='vscode-notebook-cell:/g%3A/Browser/GAIDC_preliminary_A/test.ipynb#W0sZmlsZQ%3D%3D?line=25'>26</a>\u001b[0m \u001b[39mimport\u001b[39;00m \u001b[39mmatplotlib\u001b[39;00m\u001b[39m.\u001b[39;00m\u001b[39mpyplot\u001b[39;00m \u001b[39mas\u001b[39;00m \u001b[39mplt\u001b[39;00m\n\u001b[1;32m---> <a href='vscode-notebook-cell:/g%3A/Browser/GAIDC_preliminary_A/test.ipynb#W0sZmlsZQ%3D%3D?line=27'>28</a>\u001b[0m plt\u001b[39m.\u001b[39mplot(simple_model\u001b[39m.\u001b[39mhistory\u001b[39m.\u001b[39mhistory[\u001b[39m'\u001b[39m\u001b[39mloss\u001b[39m\u001b[39m'\u001b[39m]) \u001b[39m# 训练集的acc\u001b[39;00m\n\u001b[0;32m     <a href='vscode-notebook-cell:/g%3A/Browser/GAIDC_preliminary_A/test.ipynb#W0sZmlsZQ%3D%3D?line=28'>29</a>\u001b[0m plt\u001b[39m.\u001b[39mtitle(\u001b[39m'\u001b[39m\u001b[39mmodel loss\u001b[39m\u001b[39m'\u001b[39m)\n\u001b[0;32m     <a href='vscode-notebook-cell:/g%3A/Browser/GAIDC_preliminary_A/test.ipynb#W0sZmlsZQ%3D%3D?line=29'>30</a>\u001b[0m plt\u001b[39m.\u001b[39mylabel(\u001b[39m'\u001b[39m\u001b[39mloss\u001b[39m\u001b[39m'\u001b[39m)\n",
      "\u001b[1;31mKeyError\u001b[0m: 'loss'"
     ]
    }
   ],
   "source": [
    "import keras\n",
    "from keras.models import Sequential\n",
    "from keras.layers import Dense, Input\n",
    "import numpy as np\n",
    "\n",
    "# x = np.array([[0, 1, 0], [0, 0, 1], [1, 3, 2], [3, 2, 1]])\n",
    "# y = np.array([0, 0, 1, 1]).T\n",
    "\n",
    "input_shape=tuple([x.shape[i] for i in range(1,len(x.shape))]) # 输入数据维度（忽略条数\n",
    "\n",
    "simple_model = Sequential()\n",
    "simple_model.add(Input(shape=input_shape)) # , input_shape=input_shape\n",
    "simple_model.add(Dense(5, activation='relu', name='layer1'))\n",
    "simple_model.add(Dense(4, activation='relu', name='layer2'))\n",
    "simple_model.add(Dense(48, activation='sigmoid', name='layer3'))\n",
    "\n",
    "simple_model.compile(optimizer='sgd', loss='mean_squared_error')\n",
    "\n",
    "simple_model.fit(x, y, epochs=20) # 训练20000次模型\n",
    "\n",
    "tmp = simple_model.predict(x)\n",
    "\n",
    "print(tmp.shape)\n",
    "print(tmp)\n",
    "\n",
    "import matplotlib.pyplot as plt\n",
    "\n",
    "plt.plot(simple_model.history.history['loss']) # 训练集的acc\n",
    "plt.title('model loss')\n",
    "plt.ylabel('loss')\n",
    "plt.xlabel('epoch')\n",
    "plt.show()\n"
   ]
  },
  {
   "cell_type": "code",
   "execution_count": 9,
   "metadata": {},
   "outputs": [],
   "source": [
    "import numpy as np\n",
    "x_train = np.random.rand(2, 4, 3)\n",
    "y_train = np.random.rand(2, 1, 3)\n",
    "# 生成测试数据\n",
    "x_test = np.random.rand(2, 4, 3)"
   ]
  },
  {
   "cell_type": "code",
   "execution_count": 10,
   "metadata": {},
   "outputs": [
    {
     "data": {
      "text/plain": [
       "array([[[0.41201914, 0.37223387, 0.46381421]],\n",
       "\n",
       "       [[0.15529044, 0.54947723, 0.70816949]]])"
      ]
     },
     "execution_count": 10,
     "metadata": {},
     "output_type": "execute_result"
    }
   ],
   "source": [
    "y_train"
   ]
  },
  {
   "cell_type": "code",
   "execution_count": 29,
   "metadata": {},
   "outputs": [
    {
     "name": "stdout",
     "output_type": "stream",
     "text": [
      "Epoch 1/20\n",
      "1/1 [==============================] - 0s 203ms/step - loss: 0.4225 - mae: 0.5729\n",
      "Epoch 2/20\n",
      "1/1 [==============================] - 0s 3ms/step - loss: 0.3971 - mae: 0.5555\n",
      "Epoch 3/20\n",
      "1/1 [==============================] - 0s 2ms/step - loss: 0.3728 - mae: 0.5382\n",
      "Epoch 4/20\n",
      "1/1 [==============================] - 0s 3ms/step - loss: 0.3501 - mae: 0.5213\n",
      "Epoch 5/20\n",
      "1/1 [==============================] - 0s 2ms/step - loss: 0.3284 - mae: 0.5044\n",
      "Epoch 6/20\n",
      "1/1 [==============================] - 0s 3ms/step - loss: 0.3078 - mae: 0.4876\n",
      "Epoch 7/20\n",
      "1/1 [==============================] - 0s 2ms/step - loss: 0.2877 - mae: 0.4704\n",
      "Epoch 8/20\n",
      "1/1 [==============================] - 0s 3ms/step - loss: 0.2684 - mae: 0.4531\n",
      "Epoch 9/20\n",
      "1/1 [==============================] - 0s 3ms/step - loss: 0.2502 - mae: 0.4360\n",
      "Epoch 10/20\n",
      "1/1 [==============================] - 0s 3ms/step - loss: 0.2329 - mae: 0.4191\n",
      "Epoch 11/20\n",
      "1/1 [==============================] - 0s 2ms/step - loss: 0.2166 - mae: 0.4023\n",
      "Epoch 12/20\n",
      "1/1 [==============================] - 0s 2ms/step - loss: 0.2012 - mae: 0.3856\n",
      "Epoch 13/20\n",
      "1/1 [==============================] - 0s 3ms/step - loss: 0.1868 - mae: 0.3690\n",
      "Epoch 14/20\n",
      "1/1 [==============================] - 0s 3ms/step - loss: 0.1737 - mae: 0.3528\n",
      "Epoch 15/20\n",
      "1/1 [==============================] - 0s 3ms/step - loss: 0.1617 - mae: 0.3369\n",
      "Epoch 16/20\n",
      "1/1 [==============================] - 0s 3ms/step - loss: 0.1506 - mae: 0.3211\n",
      "Epoch 17/20\n",
      "1/1 [==============================] - 0s 2ms/step - loss: 0.1404 - mae: 0.3089\n",
      "Epoch 18/20\n",
      "1/1 [==============================] - 0s 3ms/step - loss: 0.1310 - mae: 0.2978\n",
      "Epoch 19/20\n",
      "1/1 [==============================] - 0s 2ms/step - loss: 0.1223 - mae: 0.2865\n",
      "Epoch 20/20\n",
      "1/1 [==============================] - 0s 2ms/step - loss: 0.1144 - mae: 0.2754\n"
     ]
    }
   ],
   "source": [
    "import os\n",
    "# os.environ[\"CUDA_VISIBLE_DEVICES\"] = \"0\"\n",
    "\n",
    "from tensorflow.keras.layers import Input, Conv1D, MaxPooling1D, Flatten, Dense\n",
    "from tensorflow.keras.models import Model\n",
    "\n",
    "import numpy as np\n",
    "\n",
    "# 生成训练数据\n",
    "x_train = np.random.rand(2, 4, 9)\n",
    "y_train = np.random.rand(2, 1, 9)\n",
    "# 生成测试数据\n",
    "x_test = np.random.rand(2, 4, 9)\n",
    "\n",
    "\n",
    "# 输入数据\n",
    "input_tensor = Input(shape=(4, 9))\n",
    "\n",
    "# 卷积层\n",
    "x = Conv1D(filters=32, kernel_size=3, activation='relu')(input_tensor)\n",
    "x = MaxPooling1D(pool_size=2)(x)\n",
    "\n",
    "# 全连接层\n",
    "x = Flatten()(x)\n",
    "x = Dense(units=9)(x)\n",
    "\n",
    "# 模型定义\n",
    "model = Model(input_tensor, x)\n",
    "\n",
    "# 编译模型\n",
    "model.compile(optimizer='adam', loss='mean_squared_error', metrics=['mae'])\n",
    "\n",
    "# 训练模型\n",
    "model.fit(x_train, y_train, epochs=20, batch_size=32)\n",
    "\n",
    "# 预测测试集\n",
    "y_test = model.predict(x_test)\n"
   ]
  },
  {
   "cell_type": "code",
   "execution_count": 4,
   "metadata": {},
   "outputs": [
    {
     "data": {
      "text/plain": [
       "(200, 4, 48)"
      ]
     },
     "execution_count": 4,
     "metadata": {},
     "output_type": "execute_result"
    }
   ],
   "source": [
    "x_train.shape"
   ]
  },
  {
   "cell_type": "code",
   "execution_count": 67,
   "metadata": {},
   "outputs": [
    {
     "name": "stdout",
     "output_type": "stream",
     "text": [
      "Epoch 1/20\n",
      "1/1 [==============================] - 0s 210ms/step - loss: 0.5991 - mae: 0.5994\n",
      "Epoch 2/20\n",
      "1/1 [==============================] - 0s 2ms/step - loss: 0.5594 - mae: 0.5803\n",
      "Epoch 3/20\n",
      "1/1 [==============================] - 0s 2ms/step - loss: 0.5227 - mae: 0.5625\n",
      "Epoch 4/20\n",
      "1/1 [==============================] - 0s 3ms/step - loss: 0.4890 - mae: 0.5459\n",
      "Epoch 5/20\n",
      "1/1 [==============================] - 0s 3ms/step - loss: 0.4580 - mae: 0.5303\n",
      "Epoch 6/20\n",
      "1/1 [==============================] - 0s 2ms/step - loss: 0.4296 - mae: 0.5154\n",
      "Epoch 7/20\n",
      "1/1 [==============================] - 0s 2ms/step - loss: 0.4036 - mae: 0.5014\n",
      "Epoch 8/20\n",
      "1/1 [==============================] - 0s 2ms/step - loss: 0.3798 - mae: 0.4880\n",
      "Epoch 9/20\n",
      "1/1 [==============================] - 0s 3ms/step - loss: 0.3581 - mae: 0.4752\n",
      "Epoch 10/20\n",
      "1/1 [==============================] - 0s 4ms/step - loss: 0.3382 - mae: 0.4630\n",
      "Epoch 11/20\n",
      "1/1 [==============================] - 0s 4ms/step - loss: 0.3201 - mae: 0.4512\n",
      "Epoch 12/20\n",
      "1/1 [==============================] - 0s 4ms/step - loss: 0.3036 - mae: 0.4399\n",
      "Epoch 13/20\n",
      "1/1 [==============================] - 0s 4ms/step - loss: 0.2885 - mae: 0.4291\n",
      "Epoch 14/20\n",
      "1/1 [==============================] - 0s 5ms/step - loss: 0.2747 - mae: 0.4188\n",
      "Epoch 15/20\n",
      "1/1 [==============================] - 0s 4ms/step - loss: 0.2621 - mae: 0.4090\n",
      "Epoch 16/20\n",
      "1/1 [==============================] - 0s 3ms/step - loss: 0.2506 - mae: 0.3998\n",
      "Epoch 17/20\n",
      "1/1 [==============================] - 0s 3ms/step - loss: 0.2400 - mae: 0.3911\n",
      "Epoch 18/20\n",
      "1/1 [==============================] - 0s 4ms/step - loss: 0.2303 - mae: 0.3830\n",
      "Epoch 19/20\n",
      "1/1 [==============================] - 0s 3ms/step - loss: 0.2214 - mae: 0.3755\n",
      "Epoch 20/20\n",
      "1/1 [==============================] - 0s 3ms/step - loss: 0.2132 - mae: 0.3684\n",
      "WARNING:tensorflow:5 out of the last 29 calls to <function Model.make_predict_function.<locals>.predict_function at 0x0000029C11BBE940> triggered tf.function retracing. Tracing is expensive and the excessive number of tracings could be due to (1) creating @tf.function repeatedly in a loop, (2) passing tensors with different shapes, (3) passing Python objects instead of tensors. For (1), please define your @tf.function outside of the loop. For (2), @tf.function has experimental_relax_shapes=True option that relaxes argument shapes that can avoid unnecessary retracing. For (3), please refer to https://www.tensorflow.org/guide/function#controlling_retracing and https://www.tensorflow.org/api_docs/python/tf/function for  more details.\n",
      "(2, 4, 48)\n",
      "[[[ 0.37148923  0.559882    0.566357    0.77923745  1.0115625\n",
      "    0.01154792  0.1643032   0.02357161  0.20882387  0.04258561\n",
      "   -0.03060922  0.01008515  0.09312254  0.39617997  0.5796604\n",
      "   -0.25447983  0.60023236 -0.3079454   0.0946354   0.50449836\n",
      "    0.37751508  0.9838756   0.55923605  0.6547423   0.62205744\n",
      "    1.2720321   0.37551305  0.29092538  0.8755562   0.43371677\n",
      "    0.12833121  0.50094616 -0.24046247  0.12871796  0.5188296\n",
      "   -0.04269422  0.7407695   0.5494748   0.33475944  0.10131554\n",
      "    0.06386282 -0.2907049   0.7509004   0.20658335  0.79390687\n",
      "   -0.03445449  0.5362487   0.4628981 ]\n",
      "  [ 0.7359239   0.43650368  0.23682167  0.4761984   0.11945691\n",
      "   -0.32816535 -0.21341002  1.063192    0.91219825  0.41363227\n",
      "    0.49664038 -0.09111271  0.21067406  0.35524222  0.60251904\n",
      "    0.3858579   0.43650982 -0.1933145   0.5971653   0.5582305\n",
      "    0.5204454   0.50426775  1.0350809   0.05753566  0.6872896\n",
      "    0.03504181  0.01392641  0.33254325  0.43789902  0.49424973\n",
      "   -0.03282695  0.93575203  0.5672971  -0.35647848  1.0125232\n",
      "    0.01892302 -0.07475965  0.12682828  0.55484754  0.16325054\n",
      "    0.2246221   0.62483394  0.408869    0.25523376  0.6180953\n",
      "    0.8146248   0.47568867 -0.11541182]\n",
      "  [ 0.650308    0.28781208  0.28492793  0.19245464 -0.02613455\n",
      "    0.38314688 -0.08246005  0.06921043 -0.22879626  0.05922742\n",
      "   -0.5374867  -0.0966519   0.21506324  0.46105346  0.7080414\n",
      "    0.6234619   0.3877733  -0.1877799   0.44200957  0.42027894\n",
      "    0.19145496 -0.20668958  0.6152674   0.21972482  0.42751056\n",
      "   -0.02375952  0.5879036   0.12977964  0.6025095  -0.17442097\n",
      "    0.27338284  0.32032463  0.4210075  -0.17774671  0.24025895\n",
      "    0.2958107   0.5926022   0.42221963  0.5550501  -0.16056089\n",
      "   -0.14107966 -0.13654909  0.5110821   0.10287461  0.21035212\n",
      "    0.06831805  0.10014421  0.49605605]\n",
      "  [ 0.24544552  0.4795962   0.42169774  0.9641218   0.8303197\n",
      "   -0.14270896  0.72816014  0.3932908   0.12829633  0.46647593\n",
      "    0.00339784 -0.07666661 -0.2658731   0.44625425  0.55639356\n",
      "    0.07355408  0.6090451  -0.1399718   0.16219056 -0.3173825\n",
      "    0.00468406  0.55045176  0.34838763  0.6696864   1.0538281\n",
      "    0.5096902   0.58995     0.25621223  0.3069969   0.01914534\n",
      "    0.16433114  0.13507566 -0.00182139 -0.06762658  0.52183396\n",
      "    0.46075475  0.92904174  0.5013623   0.48002094  0.27776256\n",
      "    0.18044914  0.11186676  0.5019984   0.24114342  0.27514306\n",
      "    0.3399448   0.70415604  0.55309594]]\n",
      "\n",
      " [[ 0.74069107  0.6383522   0.09156354  0.6869205   0.4890559\n",
      "   -0.25140148  0.0329871   0.9980959   0.07197383  0.52107215\n",
      "    0.39948824  0.01285877 -0.20805088  0.5207007   0.6634675\n",
      "    0.3846746   0.5834938  -0.32182983  0.8480623   0.10173091\n",
      "   -0.00442521  0.30907005  0.6847996   0.32619974  0.7893337\n",
      "    0.21253315  0.56786495 -0.02335458  0.6377386   0.11542889\n",
      "    0.22285396  0.41452163  0.5254663  -0.08294074  0.6677823\n",
      "    0.8086009   0.6977284   0.34154505  0.5994822   0.2729473\n",
      "    0.19075805  0.2909953   0.68833303  0.374815    0.16524217\n",
      "    0.32959753  0.8036392   0.09236282]\n",
      "  [ 0.2254826   0.42169762  0.7384336   0.7370114   0.54941005\n",
      "    0.13384658  0.8327136   0.26296893  0.22017728  0.0437847\n",
      "   -0.11423592 -0.0958288  -0.49658203  0.78344893  0.38299215\n",
      "    0.08946552  0.651941   -0.18061042  0.03888983 -0.1928955\n",
      "    0.07859184  0.7947548   0.53707784  0.74804974  0.8660625\n",
      "    0.6372826   0.8926089   0.487284    0.33420432  0.14358802\n",
      "    0.2237221   0.08909615 -0.0562483   0.30413195  0.26365638\n",
      "    0.12766394  1.2069128   0.67783886  0.88921446  0.40381053\n",
      "    0.06326622 -0.7507161   0.71082187 -0.07876731  0.33411944\n",
      "    0.02817122  0.34307826  0.79116285]\n",
      "  [ 1.076011    0.39567775  0.20500141  0.7079494   0.3568369\n",
      "    0.20451711 -0.15839161  0.44943827  0.8026454   0.25961533\n",
      "    0.01960009 -0.41982564 -0.07060017  0.20788504  0.7274877\n",
      "    0.28929663  1.1164415  -0.26628593  0.19231169  0.8426205\n",
      "    0.29730612  0.65016186  1.0999945   0.17660064  0.8607925\n",
      "    0.7936808   0.7158597   0.05778025  0.4894197   0.16952293\n",
      "   -0.5631339   0.48224476  0.4436991  -0.1293656   0.53006244\n",
      "   -0.22138713  0.69009286  0.50658333  0.8957664  -0.08535884\n",
      "   -0.0021685   0.08578286  0.69968665  0.16958062  0.19088727\n",
      "    0.15401293  0.2469933   0.58027464]\n",
      "  [ 0.60144967  0.6197292   0.22448756  0.99937457  0.21261482\n",
      "    0.02578188  0.44912553  0.91811156  0.49250278  0.17872016\n",
      "    0.5571926  -0.09525025 -0.11113425  0.65372247  0.49071938\n",
      "    0.18799573  0.6996951  -0.1222515   0.08830146  0.28603384\n",
      "    0.39466548  0.8222597   0.8980435   0.5213162   0.8892244\n",
      "    0.6697504   0.10938822  0.80512756  0.42237175  0.0018101\n",
      "   -0.04564986  0.5171425   0.12055983 -0.0736843   0.9657106\n",
      "   -0.3179956   0.81958276  0.6933753   1.0973644  -0.11695177\n",
      "    0.253012   -0.29934895  0.5684823   0.28888887  0.5532227\n",
      "    0.85956514  0.37278032  0.591278  ]]]\n"
     ]
    }
   ],
   "source": [
    "from keras.models import Sequential\n",
    "from keras.layers import Dense, LSTM\n",
    "import numpy as np\n",
    "import os\n",
    "# os.environ[\"CUDA_VISIBLE_DEVICES\"] = \"-1\"\n",
    "\n",
    "# 设置数据集\n",
    "x_train = np.random.rand(20, 4, 48)\n",
    "y_train = np.random.rand(20, 1, 48)\n",
    "# 生成测试数据\n",
    "x_test = np.random.rand(2, 4, 48)\n",
    "\n",
    "# 创建模型\n",
    "model = Sequential()\n",
    "\n",
    "model.add(Dense(32, input_shape=(4, 48))) # 忽略数据条数，填写每行的维度\n",
    "model.add(Dense(48)) # , activation='linear'\n",
    "\n",
    "# model.add(LSTM(320, input_shape=(4, 48))) # input_shape（特征数量，特征值维数）\n",
    "# model.add(Dense(48))\n",
    "\n",
    "# 编译模型\n",
    "model.compile(optimizer='adam', loss='mean_squared_error', metrics=['mae'])\n",
    "\n",
    "model.fit(x_train, y_train, epochs=20, batch_size=32)\n",
    "\n",
    "tmp = model.predict(x_test)\n",
    "print(tmp.shape)\n",
    "print(tmp)"
   ]
  },
  {
   "attachments": {},
   "cell_type": "markdown",
   "metadata": {},
   "source": [
    "# LSTM"
   ]
  },
  {
   "cell_type": "code",
   "execution_count": 5,
   "metadata": {},
   "outputs": [],
   "source": [
    "import pandas as pd\n",
    "import numpy as np \n",
    "\n",
    "# 生成有内部关联性的数据\n",
    "feature_a = np.random.normal(10, 2, (10000, 2)).tolist()\n",
    "feature_b = np.random.normal(15, 3, (10000, 2)).tolist()\n",
    "label = np.random.normal(20, 5, (10000, 2)).tolist()\n",
    "\n",
    "# 创建数据框\n",
    "data = {\n",
    "    'feature_a': feature_a,\n",
    "    'feature_b': feature_b,\n",
    "    'label': label\n",
    "}\n",
    "df = pd.DataFrame(data)\n"
   ]
  },
  {
   "cell_type": "code",
   "execution_count": 8,
   "metadata": {},
   "outputs": [],
   "source": [
    "import numpy as np\n",
    "\n",
    "# 数据框转换为numpy数组\n",
    "data_np = df.to_numpy()\n",
    "\n",
    "# 提取特征A,特征B和标签\n",
    "feature_a = data_np[:, 0]\n",
    "feature_b = data_np[:, 1]\n",
    "label = data_np[:, 2]\n",
    "\n",
    "# 将特征A，特征B和标签转换为三维张量\n",
    "x_train = np.array([[feature_a[i], feature_b[i]] for i in range(len(feature_a))])\n",
    "# y_train = np.array([label[i] for i in range(len(label))]) # 忽略1，比x少一维\n",
    "y_train = np.array([[label[i]] for i in range(len(label))]) # 保留1，与x同维\n",
    "x_test = np.array([[feature_a[i], feature_b[i]] for i in range(len(feature_a))])\n"
   ]
  },
  {
   "cell_type": "code",
   "execution_count": 9,
   "metadata": {},
   "outputs": [
    {
     "data": {
      "text/plain": [
       "((10000, 2, 2), (10000, 1, 2))"
      ]
     },
     "execution_count": 9,
     "metadata": {},
     "output_type": "execute_result"
    }
   ],
   "source": [
    "x_train.shape,y_train.shape # [1]"
   ]
  },
  {
   "cell_type": "code",
   "execution_count": 5,
   "metadata": {},
   "outputs": [
    {
     "data": {
      "text/plain": [
       "array([[list([10.819414140868364, 9.416395959695683]),\n",
       "        list([14.610390929726684, 17.70413304462461])],\n",
       "       [list([10.290579498624126, 7.5362640028878936]),\n",
       "        list([21.89161341578591, 11.561876441132341])],\n",
       "       [list([8.907975420776701, 9.409231046437638]),\n",
       "        list([15.801027834705515, 17.698836574898856])],\n",
       "       ...,\n",
       "       [list([10.825380684370755, 13.705984453763548]),\n",
       "        list([16.037908912719214, 15.647260396883771])],\n",
       "       [list([8.611525252591946, 10.711157545421255]),\n",
       "        list([11.15852886385546, 11.42889070274058])],\n",
       "       [list([11.630356591644325, 11.48064936966749]),\n",
       "        list([17.157300809566316, 13.008373921427776])]], dtype=object)"
      ]
     },
     "execution_count": 5,
     "metadata": {},
     "output_type": "execute_result"
    }
   ],
   "source": [
    "data_np = df[[\"feature_a\", \"feature_b\"]].to_numpy()\n",
    "# x_train = df[]\n",
    "data_np"
   ]
  },
  {
   "cell_type": "code",
   "execution_count": 3,
   "metadata": {},
   "outputs": [
    {
     "name": "stdout",
     "output_type": "stream",
     "text": [
      "Epoch 1/10\n",
      "157/157 [==============================] - 3s 3ms/step - loss: 259.6324\n",
      "Epoch 2/10\n",
      "157/157 [==============================] - 1s 3ms/step - loss: 79.7183\n",
      "Epoch 3/10\n",
      "157/157 [==============================] - 1s 3ms/step - loss: 36.0968\n",
      "Epoch 4/10\n",
      "157/157 [==============================] - 1s 3ms/step - loss: 26.8551\n",
      "Epoch 5/10\n",
      "157/157 [==============================] - 1s 3ms/step - loss: 25.5251\n",
      "Epoch 6/10\n",
      "157/157 [==============================] - 1s 3ms/step - loss: 25.3792\n",
      "Epoch 7/10\n",
      "157/157 [==============================] - 1s 3ms/step - loss: 25.3708\n",
      "Epoch 8/10\n",
      "157/157 [==============================] - 1s 3ms/step - loss: 25.3712\n",
      "Epoch 9/10\n",
      "157/157 [==============================] - 1s 3ms/step - loss: 25.3706\n",
      "Epoch 10/10\n",
      "157/157 [==============================] - 1s 4ms/step - loss: 25.3701\n"
     ]
    }
   ],
   "source": [
    "from keras.layers import LSTM, Dense\n",
    "from keras.models import Sequential\n",
    "\n",
    "input_shape=tuple([x_train.shape[i] for i in range(1,len(x_train.shape))])\n",
    "\n",
    "# 定义模型\n",
    "model = Sequential()\n",
    "model.add(LSTM(32, input_shape=input_shape))\n",
    "model.add(Dense(1))\n",
    "model.compile(loss='mean_squared_error', optimizer='adam')\n",
    "\n",
    "# 训练模型\n",
    "# x_train是特征A和特征B的训练数据，y_train是标签的训练数据\n",
    "# x_train和y_train需要转换成三维张量\n",
    "model.fit(x_train, y_train, epochs=10, batch_size=64)\n",
    "\n",
    "# 预测\n",
    "# x_test是特征A和特征B的测试数据\n",
    "# x_test需要转换成三维张量\n",
    "y_pred = model.predict(x_test)\n"
   ]
  },
  {
   "cell_type": "code",
   "execution_count": null,
   "metadata": {},
   "outputs": [],
   "source": []
  }
 ],
 "metadata": {
  "kernelspec": {
   "display_name": "Python 3",
   "language": "python",
   "name": "python3"
  },
  "language_info": {
   "codemirror_mode": {
    "name": "ipython",
    "version": 3
   },
   "file_extension": ".py",
   "mimetype": "text/x-python",
   "name": "python",
   "nbconvert_exporter": "python",
   "pygments_lexer": "ipython3",
   "version": "3.8.10"
  },
  "orig_nbformat": 4,
  "vscode": {
   "interpreter": {
    "hash": "f5946b6e853b34f473fb738bafc13c5730ec46b1be076a90eae2c15b8d0b108b"
   }
  }
 },
 "nbformat": 4,
 "nbformat_minor": 2
}
